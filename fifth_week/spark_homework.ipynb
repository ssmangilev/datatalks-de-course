{
 "cells": [
  {
   "cell_type": "code",
   "execution_count": 1,
   "id": "974911c5",
   "metadata": {},
   "outputs": [
    {
     "data": {
      "text/plain": [
       "'3.2.1'"
      ]
     },
     "execution_count": 1,
     "metadata": {},
     "output_type": "execute_result"
    }
   ],
   "source": [
    "import pyspark\n",
    "pyspark.__version__"
   ]
  },
  {
   "cell_type": "code",
   "execution_count": 2,
   "id": "1bfbff50",
   "metadata": {},
   "outputs": [
    {
     "name": "stderr",
     "output_type": "stream",
     "text": [
      "Picked up _JAVA_OPTIONS: -Dawt.useSystemAAFontSettings=on -Dswing.aatext=true\n",
      "Picked up _JAVA_OPTIONS: -Dawt.useSystemAAFontSettings=on -Dswing.aatext=true\n"
     ]
    },
    {
     "name": "stdout",
     "output_type": "stream",
     "text": [
      "23/02/26 06:07:31 WARN Utils: Your hostname, p200300c2f72c0bb59a8d46fffeb73c34 resolves to a loopback address: 127.0.1.1; using 192.168.2.160 instead (on interface wlan0)\n",
      "23/02/26 06:07:31 WARN Utils: Set SPARK_LOCAL_IP if you need to bind to another address\n"
     ]
    },
    {
     "name": "stderr",
     "output_type": "stream",
     "text": [
      "Setting default log level to \"WARN\".\n",
      "To adjust logging level use sc.setLogLevel(newLevel). For SparkR, use setLogLevel(newLevel).\n"
     ]
    },
    {
     "name": "stdout",
     "output_type": "stream",
     "text": [
      "23/02/26 06:07:32 WARN NativeCodeLoader: Unable to load native-hadoop library for your platform... using builtin-java classes where applicable\n"
     ]
    }
   ],
   "source": [
    "from pyspark.sql import SparkSession\n",
    "spark = SparkSession.builder \\\n",
    "    .master(\"local[*]\") \\\n",
    "    .appName('test') \\\n",
    "    .getOrCreate()"
   ]
  },
  {
   "cell_type": "code",
   "execution_count": 3,
   "id": "fa2a30f1",
   "metadata": {},
   "outputs": [
    {
     "name": "stdout",
     "output_type": "stream",
     "text": [
      "total 899552\r\n",
      "drwxr-xr-x  4 anberlin anberlin      4096 Feb 25 08:27 .\r\n",
      "drwxr-xr-x 10 anberlin anberlin      4096 Feb 22 05:51 ..\r\n",
      "drwxr-xr-x  3 anberlin anberlin      4096 Feb 25 08:14 fhv\r\n",
      "-rw-r--r--  1 anberlin anberlin 920606870 Feb 24 05:47 fhv_tripdata_2021-06.csv\r\n",
      "-rw-r--r--  1 anberlin anberlin     61595 Feb 25 06:56 head.csv\r\n",
      "drwxr-xr-x  2 anberlin anberlin      4096 Feb 24 05:35 .ipynb_checkpoints\r\n",
      "-rw-r--r--  1 anberlin anberlin    442870 Feb 25 08:27 Untitled.ipynb\r\n"
     ]
    }
   ],
   "source": [
    "!ls -la"
   ]
  },
  {
   "cell_type": "code",
   "execution_count": 4,
   "id": "7d3be90a",
   "metadata": {},
   "outputs": [
    {
     "name": "stdout",
     "output_type": "stream",
     "text": [
      "14961893 fhv_tripdata_2021-06.csv\r\n"
     ]
    }
   ],
   "source": [
    "\n",
    "\n",
    "!wc -l fhv_tripdata_2021-06.csv\n",
    "\n"
   ]
  },
  {
   "cell_type": "code",
   "execution_count": 5,
   "id": "4cf6120e",
   "metadata": {},
   "outputs": [],
   "source": [
    "df = spark.read \\\n",
    "    .option(\"header\", \"true\") \\\n",
    "    .csv('fhv_tripdata_2021-06.csv')"
   ]
  },
  {
   "cell_type": "code",
   "execution_count": 5,
   "id": "5d306d1f",
   "metadata": {},
   "outputs": [
    {
     "data": {
      "text/plain": [
       "StructType(List(StructField(dispatching_base_num,StringType,true),StructField(pickup_datetime,StringType,true),StructField(dropoff_datetime,StringType,true),StructField(PULocationID,StringType,true),StructField(DOLocationID,StringType,true),StructField(SR_Flag,StringType,true),StructField(Affiliated_base_number,StringType,true)))"
      ]
     },
     "execution_count": 5,
     "metadata": {},
     "output_type": "execute_result"
    }
   ],
   "source": [
    "df.schema"
   ]
  },
  {
   "cell_type": "code",
   "execution_count": 6,
   "id": "8b948308",
   "metadata": {},
   "outputs": [],
   "source": [
    "!head -n 1001 fhv_tripdata_2021-06.csv > head.csv\n"
   ]
  },
  {
   "cell_type": "code",
   "execution_count": 7,
   "id": "0d29da3d",
   "metadata": {},
   "outputs": [],
   "source": [
    "import pandas as pd\n"
   ]
  },
  {
   "cell_type": "code",
   "execution_count": 8,
   "id": "d186281d",
   "metadata": {},
   "outputs": [],
   "source": [
    "df_pandas = pd.read_csv('head.csv')"
   ]
  },
  {
   "cell_type": "code",
   "execution_count": 9,
   "id": "698c6cdb",
   "metadata": {},
   "outputs": [
    {
     "data": {
      "text/plain": [
       "dispatching_base_num      object\n",
       "pickup_datetime           object\n",
       "dropoff_datetime          object\n",
       "PULocationID               int64\n",
       "DOLocationID               int64\n",
       "SR_Flag                   object\n",
       "Affiliated_base_number    object\n",
       "dtype: object"
      ]
     },
     "execution_count": 9,
     "metadata": {},
     "output_type": "execute_result"
    }
   ],
   "source": [
    "df_pandas.dtypes"
   ]
  },
  {
   "cell_type": "code",
   "execution_count": 19,
   "id": "5dba7e9e",
   "metadata": {},
   "outputs": [],
   "source": [
    "from pyspark.sql import types"
   ]
  },
  {
   "cell_type": "code",
   "execution_count": 61,
   "id": "15ec3fc5",
   "metadata": {},
   "outputs": [],
   "source": [
    "schema = types.StructType([\n",
    "    types.StructField('dispatching_base_num', types.StringType(), True),\n",
    "    types.StructField('pickup_datetime', types.TimestampType(), True),\n",
    "    types.StructField('dropoff_datetime', types.TimestampType(), True),\n",
    "    types.StructField('PULocationID', types.IntegerType(), True),\n",
    "    types.StructField('DOLocationID', types.IntegerType(), True),\n",
    "    types.StructField('SR_Flag', types.StringType(), True),\n",
    "    types.StructField('Affiliated_base_number', types.StringType(), True),\n",
    "])\n"
   ]
  },
  {
   "cell_type": "code",
   "execution_count": 62,
   "id": "90229996",
   "metadata": {},
   "outputs": [],
   "source": [
    "df = spark.read \\\n",
    "    .option(\"header\", \"true\") \\\n",
    "    .schema(schema) \\\n",
    "    .csv('fhv_tripdata_2021-06.csv')"
   ]
  },
  {
   "cell_type": "code",
   "execution_count": 63,
   "id": "02eb62d3",
   "metadata": {},
   "outputs": [],
   "source": [
    "df = df.repartition(12)"
   ]
  },
  {
   "cell_type": "code",
   "execution_count": 65,
   "id": "3efd7122",
   "metadata": {
    "scrolled": true
   },
   "outputs": [
    {
     "name": "stderr",
     "output_type": "stream",
     "text": [
      "[Stage 38:============================>                            (6 + 6) / 12]\r"
     ]
    },
    {
     "name": "stdout",
     "output_type": "stream",
     "text": [
      "23/02/25 08:14:42 WARN MemoryManager: Total allocation exceeds 95.00% (1,020,054,720 bytes) of heap memory\n",
      "Scaling row group sizes to 95.00% for 8 writers\n",
      "23/02/25 08:14:42 WARN MemoryManager: Total allocation exceeds 95.00% (1,020,054,720 bytes) of heap memory\n",
      "Scaling row group sizes to 84.44% for 9 writers\n",
      "23/02/25 08:14:42 WARN MemoryManager: Total allocation exceeds 95.00% (1,020,054,720 bytes) of heap memory\n",
      "Scaling row group sizes to 76.00% for 10 writers\n",
      "23/02/25 08:14:42 WARN MemoryManager: Total allocation exceeds 95.00% (1,020,054,720 bytes) of heap memory\n",
      "Scaling row group sizes to 69.09% for 11 writers\n",
      "23/02/25 08:14:42 WARN MemoryManager: Total allocation exceeds 95.00% (1,020,054,720 bytes) of heap memory\n",
      "Scaling row group sizes to 63.33% for 12 writers\n"
     ]
    },
    {
     "name": "stderr",
     "output_type": "stream",
     "text": [
      "\r",
      "[Stage 40:>                                                       (0 + 12) / 12]\r"
     ]
    },
    {
     "name": "stdout",
     "output_type": "stream",
     "text": [
      "23/02/25 08:14:47 WARN MemoryManager: Total allocation exceeds 95.00% (1,020,054,720 bytes) of heap memory\n",
      "Scaling row group sizes to 69.09% for 11 writers\n",
      "23/02/25 08:14:47 WARN MemoryManager: Total allocation exceeds 95.00% (1,020,054,720 bytes) of heap memory\n",
      "Scaling row group sizes to 76.00% for 10 writers\n",
      "23/02/25 08:14:47 WARN MemoryManager: Total allocation exceeds 95.00% (1,020,054,720 bytes) of heap memory\n",
      "Scaling row group sizes to 84.44% for 9 writers\n"
     ]
    },
    {
     "name": "stderr",
     "output_type": "stream",
     "text": [
      "\r",
      "[Stage 40:=========>                                              (2 + 10) / 12]\r"
     ]
    },
    {
     "name": "stdout",
     "output_type": "stream",
     "text": [
      "23/02/25 08:14:47 WARN MemoryManager: Total allocation exceeds 95.00% (1,020,054,720 bytes) of heap memory\n",
      "Scaling row group sizes to 95.00% for 8 writers\n"
     ]
    },
    {
     "name": "stderr",
     "output_type": "stream",
     "text": [
      "                                                                                \r"
     ]
    }
   ],
   "source": [
    "df.write.parquet('fhv/2021/06/')"
   ]
  },
  {
   "cell_type": "code",
   "execution_count": 10,
   "id": "bb3173f5",
   "metadata": {},
   "outputs": [],
   "source": [
    "from pyspark.sql import functions as F"
   ]
  },
  {
   "cell_type": "code",
   "execution_count": 67,
   "id": "7fd834a7",
   "metadata": {},
   "outputs": [
    {
     "name": "stderr",
     "output_type": "stream",
     "text": [
      "[Stage 41:===================>                                     (4 + 8) / 12]\r"
     ]
    },
    {
     "name": "stdout",
     "output_type": "stream",
     "text": [
      "+--------------------+-------------------+-------------------+------------+------------+-------+----------------------+\n",
      "|dispatching_base_num|    pickup_datetime|   dropoff_datetime|PULocationID|DOLocationID|SR_Flag|Affiliated_base_number|\n",
      "+--------------------+-------------------+-------------------+------------+------------+-------+----------------------+\n",
      "|              B02510|2021-06-01 14:06:57|2021-06-01 14:26:39|         132|         117|      N|                  null|\n",
      "|              B02869|2021-06-01 16:18:58|2021-06-01 16:41:22|         198|         196|      N|                B02869|\n",
      "|              B02887|2021-06-02 17:48:58|2021-06-02 18:05:18|          33|         144|      N|                B02887|\n",
      "|              B02510|2021-06-03 16:12:03|2021-06-03 16:25:53|          39|          72|      N|                  null|\n",
      "|              B02764|2021-06-03 12:42:14|2021-06-03 12:51:17|          28|         130|      N|                B02764|\n",
      "|              B02510|2021-06-01 01:58:42|2021-06-01 02:06:21|          48|         229|      N|                  null|\n",
      "|              B02510|2021-06-03 06:18:01|2021-06-03 06:37:43|          68|         244|      N|                  null|\n",
      "|              B02875|2021-06-03 07:19:10|2021-06-03 07:34:25|          40|         209|      N|                B02875|\n",
      "|              B02883|2021-06-01 18:36:55|2021-06-01 18:57:52|          80|          66|      N|                B02883|\n",
      "|              B02889|2021-06-03 18:11:34|2021-06-03 18:20:43|          26|          26|      N|                B02889|\n",
      "|              B02764|2021-06-01 19:45:07|2021-06-01 19:55:29|         263|         142|      N|                B02764|\n",
      "|              B02867|2021-06-02 15:59:07|2021-06-02 16:12:30|         237|         229|      N|                B02867|\n",
      "|              B02870|2021-06-03 08:40:20|2021-06-03 08:58:32|         168|          42|      N|                B02870|\n",
      "|              B02510|2021-06-01 21:07:57|2021-06-01 21:11:34|          74|          74|      N|                  null|\n",
      "|              B02872|2021-06-03 11:28:07|2021-06-03 11:50:11|          38|         265|      N|                B02872|\n",
      "|              B02869|2021-06-01 13:19:42|2021-06-01 13:37:51|         211|         256|      N|                B02869|\n",
      "|              B02875|2021-06-02 14:03:45|2021-06-02 14:17:28|         214|         221|      N|                B02875|\n",
      "|              B02882|2021-06-03 13:24:28|2021-06-03 13:38:57|         223|         138|      N|                B02882|\n",
      "|              B02869|2021-06-01 09:47:07|2021-06-01 10:03:55|         233|         142|      N|                B02869|\n",
      "|              B02510|2021-06-02 23:12:44|2021-06-02 23:35:12|         132|         265|      N|                  null|\n",
      "+--------------------+-------------------+-------------------+------------+------------+-------+----------------------+\n",
      "only showing top 20 rows\n",
      "\n"
     ]
    },
    {
     "name": "stderr",
     "output_type": "stream",
     "text": [
      "\r",
      "[Stage 41:==========================================>              (9 + 3) / 12]\r",
      "\r",
      "                                                                                \r"
     ]
    }
   ],
   "source": [
    "df.show()"
   ]
  },
  {
   "cell_type": "code",
   "execution_count": 6,
   "id": "a71828f6",
   "metadata": {},
   "outputs": [],
   "source": [
    "df = spark.read.parquet('fhv/2021/06/')"
   ]
  },
  {
   "cell_type": "code",
   "execution_count": 7,
   "id": "799f155f",
   "metadata": {},
   "outputs": [
    {
     "name": "stdout",
     "output_type": "stream",
     "text": [
      "+--------------------+-------------------+-------------------+------------+------------+-------+----------------------+\n",
      "|dispatching_base_num|    pickup_datetime|   dropoff_datetime|PULocationID|DOLocationID|SR_Flag|Affiliated_base_number|\n",
      "+--------------------+-------------------+-------------------+------------+------------+-------+----------------------+\n",
      "|              B02510|2021-06-01 14:06:57|2021-06-01 14:26:39|         132|         117|      N|                  null|\n",
      "|              B02869|2021-06-01 16:18:58|2021-06-01 16:41:22|         198|         196|      N|                B02869|\n",
      "|              B02887|2021-06-02 17:48:58|2021-06-02 18:05:18|          33|         144|      N|                B02887|\n",
      "|              B02510|2021-06-03 16:12:03|2021-06-03 16:25:53|          39|          72|      N|                  null|\n",
      "|              B02764|2021-06-03 12:42:14|2021-06-03 12:51:17|          28|         130|      N|                B02764|\n",
      "|              B02510|2021-06-01 01:58:42|2021-06-01 02:06:21|          48|         229|      N|                  null|\n",
      "|              B02510|2021-06-03 06:18:01|2021-06-03 06:37:43|          68|         244|      N|                  null|\n",
      "|              B02875|2021-06-03 07:19:10|2021-06-03 07:34:25|          40|         209|      N|                B02875|\n",
      "|              B02883|2021-06-01 18:36:55|2021-06-01 18:57:52|          80|          66|      N|                B02883|\n",
      "|              B02889|2021-06-03 18:11:34|2021-06-03 18:20:43|          26|          26|      N|                B02889|\n",
      "|              B02764|2021-06-01 19:45:07|2021-06-01 19:55:29|         263|         142|      N|                B02764|\n",
      "|              B02867|2021-06-02 15:59:07|2021-06-02 16:12:30|         237|         229|      N|                B02867|\n",
      "|              B02870|2021-06-03 08:40:20|2021-06-03 08:58:32|         168|          42|      N|                B02870|\n",
      "|              B02510|2021-06-01 21:07:57|2021-06-01 21:11:34|          74|          74|      N|                  null|\n",
      "|              B02872|2021-06-03 11:28:07|2021-06-03 11:50:11|          38|         265|      N|                B02872|\n",
      "|              B02869|2021-06-01 13:19:42|2021-06-01 13:37:51|         211|         256|      N|                B02869|\n",
      "|              B02875|2021-06-02 14:03:45|2021-06-02 14:17:28|         214|         221|      N|                B02875|\n",
      "|              B02882|2021-06-03 13:24:28|2021-06-03 13:38:57|         223|         138|      N|                B02882|\n",
      "|              B02869|2021-06-01 09:47:07|2021-06-01 10:03:55|         233|         142|      N|                B02869|\n",
      "|              B02510|2021-06-02 23:12:44|2021-06-02 23:35:12|         132|         265|      N|                  null|\n",
      "+--------------------+-------------------+-------------------+------------+------------+-------+----------------------+\n",
      "only showing top 20 rows\n",
      "\n"
     ]
    }
   ],
   "source": [
    "df.show()"
   ]
  },
  {
   "cell_type": "code",
   "execution_count": 8,
   "id": "39673daf",
   "metadata": {},
   "outputs": [],
   "source": [
    "from datetime import datetime"
   ]
  },
  {
   "cell_type": "code",
   "execution_count": 12,
   "id": "751100b7",
   "metadata": {},
   "outputs": [
    {
     "name": "stderr",
     "output_type": "stream",
     "text": [
      "                                                                                \r"
     ]
    }
   ],
   "source": [
    "answer3 = df.withColumn('pickup_day', F.date_trunc('day', df.pickup_datetime)).where(F.col('pickup_day') == datetime(2021, 6, 15)).count()\n"
   ]
  },
  {
   "cell_type": "code",
   "execution_count": 13,
   "id": "54858406",
   "metadata": {},
   "outputs": [
    {
     "data": {
      "text/plain": [
       "452470"
      ]
     },
     "execution_count": 13,
     "metadata": {},
     "output_type": "execute_result"
    }
   ],
   "source": [
    "answer3"
   ]
  },
  {
   "cell_type": "code",
   "execution_count": 14,
   "id": "e2580d74",
   "metadata": {},
   "outputs": [],
   "source": [
    "from decimal import Decimal"
   ]
  },
  {
   "cell_type": "code",
   "execution_count": 15,
   "id": "fbe828e4",
   "metadata": {},
   "outputs": [
    {
     "name": "stdout",
     "output_type": "stream",
     "text": [
      "+--------------------+-------------------+-------------------+------------+------------+-------+----------------------+\n",
      "|dispatching_base_num|    pickup_datetime|   dropoff_datetime|PULocationID|DOLocationID|SR_Flag|Affiliated_base_number|\n",
      "+--------------------+-------------------+-------------------+------------+------------+-------+----------------------+\n",
      "|              B02510|2021-06-01 14:06:57|2021-06-01 14:26:39|         132|         117|      N|                  null|\n",
      "|              B02869|2021-06-01 16:18:58|2021-06-01 16:41:22|         198|         196|      N|                B02869|\n",
      "|              B02887|2021-06-02 17:48:58|2021-06-02 18:05:18|          33|         144|      N|                B02887|\n",
      "|              B02510|2021-06-03 16:12:03|2021-06-03 16:25:53|          39|          72|      N|                  null|\n",
      "|              B02764|2021-06-03 12:42:14|2021-06-03 12:51:17|          28|         130|      N|                B02764|\n",
      "|              B02510|2021-06-01 01:58:42|2021-06-01 02:06:21|          48|         229|      N|                  null|\n",
      "|              B02510|2021-06-03 06:18:01|2021-06-03 06:37:43|          68|         244|      N|                  null|\n",
      "|              B02875|2021-06-03 07:19:10|2021-06-03 07:34:25|          40|         209|      N|                B02875|\n",
      "|              B02883|2021-06-01 18:36:55|2021-06-01 18:57:52|          80|          66|      N|                B02883|\n",
      "|              B02889|2021-06-03 18:11:34|2021-06-03 18:20:43|          26|          26|      N|                B02889|\n",
      "|              B02764|2021-06-01 19:45:07|2021-06-01 19:55:29|         263|         142|      N|                B02764|\n",
      "|              B02867|2021-06-02 15:59:07|2021-06-02 16:12:30|         237|         229|      N|                B02867|\n",
      "|              B02870|2021-06-03 08:40:20|2021-06-03 08:58:32|         168|          42|      N|                B02870|\n",
      "|              B02510|2021-06-01 21:07:57|2021-06-01 21:11:34|          74|          74|      N|                  null|\n",
      "|              B02872|2021-06-03 11:28:07|2021-06-03 11:50:11|          38|         265|      N|                B02872|\n",
      "|              B02869|2021-06-01 13:19:42|2021-06-01 13:37:51|         211|         256|      N|                B02869|\n",
      "|              B02875|2021-06-02 14:03:45|2021-06-02 14:17:28|         214|         221|      N|                B02875|\n",
      "|              B02882|2021-06-03 13:24:28|2021-06-03 13:38:57|         223|         138|      N|                B02882|\n",
      "|              B02869|2021-06-01 09:47:07|2021-06-01 10:03:55|         233|         142|      N|                B02869|\n",
      "|              B02510|2021-06-02 23:12:44|2021-06-02 23:35:12|         132|         265|      N|                  null|\n",
      "+--------------------+-------------------+-------------------+------------+------------+-------+----------------------+\n",
      "only showing top 20 rows\n",
      "\n"
     ]
    }
   ],
   "source": [
    "df.where(\"dropoff_datetime is not NULL\").show()"
   ]
  },
  {
   "cell_type": "code",
   "execution_count": 17,
   "id": "7f2eaf3f",
   "metadata": {},
   "outputs": [],
   "source": [
    "def trip_duration_in_hours(start: datetime, end: datetime) -> float:\n",
    "    duration = end - start\n",
    "    duration_in_seconds = duration.total_seconds()\n",
    "    return duration_in_seconds / 3600"
   ]
  },
  {
   "cell_type": "code",
   "execution_count": 20,
   "id": "cade0667",
   "metadata": {},
   "outputs": [
    {
     "name": "stderr",
     "output_type": "stream",
     "text": [
      "[Stage 7:====================================================>    (11 + 1) / 12]\r"
     ]
    },
    {
     "name": "stdout",
     "output_type": "stream",
     "text": [
      "+---------------------------+\n",
      "|max(trip_duration_in_hours)|\n",
      "+---------------------------+\n",
      "|                   66.87889|\n",
      "+---------------------------+\n",
      "\n"
     ]
    },
    {
     "name": "stderr",
     "output_type": "stream",
     "text": [
      "\r",
      "                                                                                \r"
     ]
    }
   ],
   "source": [
    "trip_duration_in_hours_udf = F.udf(trip_duration_in_hours, returnType=types.FloatType())\n",
    "answer4 = df.where(\"pickup_datetime IS NOT NULL AND dropoff_datetime IS NOT NULL\")\\\n",
    "            .withColumn('trip_duration_in_hours', trip_duration_in_hours_udf(df.pickup_datetime, df.dropoff_datetime))\\\n",
    "            .select(F.max(F.col('trip_duration_in_hours')))\\\n",
    "            .show()"
   ]
  },
  {
   "cell_type": "code",
   "execution_count": 37,
   "id": "538cbda8",
   "metadata": {},
   "outputs": [
    {
     "name": "stdout",
     "output_type": "stream",
     "text": [
      "+----------+---------+---------------+------------+\n",
      "|LocationID|  Borough|           Zone|service_zone|\n",
      "+----------+---------+---------------+------------+\n",
      "|       148|Manhattan|Lower East Side| Yellow Zone|\n",
      "+----------+---------+---------------+------------+\n",
      "\n"
     ]
    }
   ],
   "source": [
    "zones_df = spark.read \\\n",
    "    .option(\"header\", \"true\") \\\n",
    "    .csv('taxi_zone_lookup.csv')\n",
    "zones_df.where(F.col('LocationID') == 148).show()"
   ]
  },
  {
   "cell_type": "code",
   "execution_count": 23,
   "id": "9e9cd666",
   "metadata": {},
   "outputs": [],
   "source": [
    "zones_df.createOrReplaceTempView(\"zones\")"
   ]
  },
  {
   "cell_type": "code",
   "execution_count": 41,
   "id": "d413f80a",
   "metadata": {},
   "outputs": [],
   "source": [
    "answer6_python = df.join(zones_df,df.PULocationID == zones_df.LocationID).groupBy(F.col('PULocationID'), F.col('Zone')).count().sort(F.col('count').desc()).take(1)"
   ]
  },
  {
   "cell_type": "code",
   "execution_count": 42,
   "id": "1292b2ac",
   "metadata": {},
   "outputs": [
    {
     "data": {
      "text/plain": [
       "[Row(PULocationID=61, Zone='Crown Heights North', count=231279)]"
      ]
     },
     "execution_count": 42,
     "metadata": {},
     "output_type": "execute_result"
    }
   ],
   "source": [
    "answer6_python"
   ]
  },
  {
   "cell_type": "code",
   "execution_count": 43,
   "id": "216d5731",
   "metadata": {},
   "outputs": [
    {
     "name": "stderr",
     "output_type": "stream",
     "text": [
      "/home/anberlin/anaconda3/lib/python3.9/site-packages/pyspark/sql/dataframe.py:138: FutureWarning: Deprecated in 2.0, use createOrReplaceTempView instead.\n",
      "  warnings.warn(\n"
     ]
    }
   ],
   "source": [
    "df.registerTempTable('fhv_tripdata')"
   ]
  },
  {
   "cell_type": "code",
   "execution_count": 44,
   "id": "f9c0abc3",
   "metadata": {},
   "outputs": [],
   "source": [
    "answer6_sql = spark.sql(\"\"\"\n",
    "SELECT Zone from (\n",
    "SELECT \n",
    "    PULocationID, count(1) as count\n",
    "    FROM fhv_tripdata\n",
    "    GROUP BY 1\n",
    "    ORDER BY count desc\n",
    "    LIMIT 1) tmp_table, zones\n",
    "    WHERE tmp_table.PULocationID = zones.LocationID\n",
    "\"\"\")"
   ]
  },
  {
   "cell_type": "code",
   "execution_count": 46,
   "id": "0f68fce6",
   "metadata": {},
   "outputs": [
    {
     "name": "stdout",
     "output_type": "stream",
     "text": [
      "+-------------------+\n",
      "|               Zone|\n",
      "+-------------------+\n",
      "|Crown Heights North|\n",
      "+-------------------+\n",
      "\n"
     ]
    }
   ],
   "source": [
    "answer6_sql.show()"
   ]
  }
 ],
 "metadata": {
  "kernelspec": {
   "display_name": "Python 3 (ipykernel)",
   "language": "python",
   "name": "python3"
  },
  "language_info": {
   "codemirror_mode": {
    "name": "ipython",
    "version": 3
   },
   "file_extension": ".py",
   "mimetype": "text/x-python",
   "name": "python",
   "nbconvert_exporter": "python",
   "pygments_lexer": "ipython3",
   "version": "3.9.13"
  }
 },
 "nbformat": 4,
 "nbformat_minor": 5
}
